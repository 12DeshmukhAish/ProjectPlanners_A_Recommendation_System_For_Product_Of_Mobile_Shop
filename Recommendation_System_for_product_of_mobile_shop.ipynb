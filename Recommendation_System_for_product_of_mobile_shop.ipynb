{
  "nbformat": 4,
  "nbformat_minor": 0,
  "metadata": {
    "colab": {
      "provenance": [],
      "include_colab_link": true
    },
    "kernelspec": {
      "name": "python3",
      "display_name": "Python 3"
    },
    "language_info": {
      "name": "python"
    }
  },
  "cells": [
    {
      "cell_type": "markdown",
      "metadata": {
        "id": "view-in-github",
        "colab_type": "text"
      },
      "source": [
        "<a href=\"https://colab.research.google.com/github/12DeshmukhAish/ProjectPlanners_A_Recommendation_System_For_Product_Of_Mobile_Shop/blob/main/Recommendation_System_for_product_of_mobile_shop.ipynb\" target=\"_parent\"><img src=\"https://colab.research.google.com/assets/colab-badge.svg\" alt=\"Open In Colab\"/></a>"
      ]
    },
    {
      "cell_type": "code",
      "source": [
        "import pandas as pd\n",
        "from sklearn.feature_extraction.text import TfidfVectorizer\n",
        "from sklearn.metrics.pairwise import cosine_similarity\n",
        "\n",
        "# Read data from CSV\n",
        "data = pd.read_csv('/content/cellphones data (2).csv')\n",
        "\n",
        "# Select the relevant columns for recommendations\n",
        "input_columns = ['operating system', 'internal memory', 'RAM', 'performance', 'main camera', 'selfie camera', 'battery size', 'screen size', 'weight', 'price']\n",
        "model_column = 'model'\n",
        "\n",
        "# Create a new column 'combined' by concatenating the input columns\n",
        "data['combined'] = data[input_columns].astype(str).apply(lambda x: ' '.join(x), axis=1)\n",
        "\n",
        "# Create a TF-IDF vectorizer\n",
        "vectorizer = TfidfVectorizer()\n",
        "tfidf_matrix = vectorizer.fit_transform(data['combined'])\n",
        "\n",
        "# Compute the cosine similarity matrix\n",
        "cosine_sim = cosine_similarity(tfidf_matrix, tfidf_matrix)\n",
        "\n",
        "# Function to get top recommendations based on cosine similarity\n",
        "def get_recommendations(cosine_sim_matrix, data, input_values, top_n=5):\n",
        "    # Create a new row with the input values\n",
        "    input_row = pd.DataFrame([input_values], columns=input_columns)\n",
        "    input_row['combined'] = input_row[input_columns].astype(str).apply(lambda x: ' '.join(x), axis=1)\n",
        "\n",
        "    # Append the new row to the data\n",
        "    data_with_input = data.append(input_row, ignore_index=True)\n",
        "\n",
        "    # Compute TF-IDF for the updated data\n",
        "    tfidf_matrix_with_input = vectorizer.transform(data_with_input['combined'])\n",
        "\n",
        "    # Compute cosine similarity with the new input row\n",
        "    cosine_sim_with_input = cosine_similarity(tfidf_matrix_with_input, tfidf_matrix_with_input)\n",
        "\n",
        "    # Get recommendations based on cosine similarity\n",
        "    indices = data_with_input.index\n",
        "    input_index = indices[-1]\n",
        "    sim_scores = list(enumerate(cosine_sim_with_input[input_index]))\n",
        "    sim_scores = sorted(sim_scores, key=lambda x: x[1], reverse=True)\n",
        "    sim_scores = sim_scores[1:top_n+1]\n",
        "    model_indices = [i[0] for i in sim_scores]\n",
        "    return data_with_input[model_column].iloc[model_indices]\n",
        "\n",
        "# Example usage\n",
        "input_values = ['Android', '64GB', '4GB', 'High', '12MP', '8MP', '4000mAh', '6.2\"', '180g', '$500']  # Replace with your input values\n",
        "top_recommendations = get_recommendations(cosine_sim, data, input_values)\n",
        "print(top_recommendations)\n"
      ],
      "metadata": {
        "colab": {
          "base_uri": "https://localhost:8080/"
        },
        "id": "1lDMBhnEFNSY",
        "outputId": "79ffa30d-6e11-444d-e09c-4aa9e16bc1a4"
      },
      "execution_count": null,
      "outputs": [
        {
          "output_type": "stream",
          "name": "stdout",
          "text": [
            "29    Moto G Stylus (2022)\n",
            "32     Moto G Power (2022)\n",
            "30      Moto G Play (2021)\n",
            "18                Nord N20\n",
            "7               Galaxy A13\n",
            "Name: model, dtype: object\n"
          ]
        },
        {
          "output_type": "stream",
          "name": "stderr",
          "text": [
            "<ipython-input-8-a2401c8cd834>:29: FutureWarning: The frame.append method is deprecated and will be removed from pandas in a future version. Use pandas.concat instead.\n",
            "  data_with_input = data.append(input_row, ignore_index=True)\n"
          ]
        }
      ]
    }
  ]
}